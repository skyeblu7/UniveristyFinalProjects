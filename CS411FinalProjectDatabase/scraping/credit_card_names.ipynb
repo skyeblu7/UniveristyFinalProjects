{
 "cells": [
  {
   "cell_type": "markdown",
   "metadata": {},
   "source": []
  },
  {
   "cell_type": "code",
   "execution_count": 65,
   "metadata": {},
   "outputs": [],
   "source": [
    "# Code used to scrape credit card names from \"helpmebuildcredit.com\"\n",
    "\n",
    "import requests\n",
    "from bs4 import BeautifulSoup as bs\n",
    "\n",
    "\n",
    "for page in range(1,2):\n",
    "\n",
    "    r = requests.get('https://helpmebuildcredit.com/user-cc-results/?paged='+str(page))\n",
    "\n",
    "    soup = bs(r.text).prettify()\n",
    "    spec_str = \"{\\\\\\\"label\\\\\\\":\\\\\\\"\"\n",
    "\n",
    "    cards = []\n",
    "\n",
    "    for i in range(len(soup) - 100):\n",
    "        if(soup[i+0] == spec_str[0] and\n",
    "        soup[i+1] == spec_str[1] and\n",
    "        soup[i+2] == spec_str[2] and\n",
    "        soup[i+3] == spec_str[3] and\n",
    "        soup[i+4] == spec_str[4] and\n",
    "        soup[i+5] == spec_str[5] and\n",
    "        soup[i+6] == spec_str[6] and\n",
    "        soup[i+7] == spec_str[7] and\n",
    "        soup[i+8] == spec_str[8] and\n",
    "        soup[i+9] == spec_str[9] and\n",
    "        soup[i+10] == spec_str[10] and\n",
    "        soup[i+11] == spec_str[11] and\n",
    "        soup[i+12] == spec_str[12]):\n",
    "            cards.append(soup[i+13:i+100])\n",
    "\n",
    "    for i in range(len(cards)):\n",
    "        for j in range(len(cards[i])):\n",
    "            if(cards[i][j] == \"\\\\\"):\n",
    "                cards[i] = cards[i][0:j]\n",
    "                break\n",
    "\n",
    "file1 = open(\"credit_card_names.txt\", \"w\") \n",
    "\n",
    "for card in cards:\n",
    "    file1.write(card + \"\\n\")\n",
    "\n",
    "file1.close()\n",
    "\n"
   ]
  },
  {
   "cell_type": "code",
   "execution_count": null,
   "metadata": {},
   "outputs": [],
   "source": []
  }
 ],
 "metadata": {
  "kernelspec": {
   "display_name": "Python 3.8.2 32-bit",
   "language": "python",
   "name": "python3"
  },
  "language_info": {
   "codemirror_mode": {
    "name": "ipython",
    "version": 3
   },
   "file_extension": ".py",
   "mimetype": "text/x-python",
   "name": "python",
   "nbconvert_exporter": "python",
   "pygments_lexer": "ipython3",
   "version": "3.8.2"
  },
  "orig_nbformat": 2,
  "vscode": {
   "interpreter": {
    "hash": "652eaddb59176ef32f6983542cb69757b65b4893c8281464bbe40572652f5e7e"
   }
  }
 },
 "nbformat": 4,
 "nbformat_minor": 2
}
